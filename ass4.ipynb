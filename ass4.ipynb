{
 "cells": [
  {
   "cell_type": "markdown",
   "metadata": {},
   "source": [
    "# ASSIGNMENT-4"
   ]
  },
  {
   "cell_type": "markdown",
   "metadata": {},
   "source": [
    "1.1 Write a Python Program(with class concepts) to find the area of the triangle using the below formula. \n",
    " \n",
    "area = (s*(s-a)*(s-b)*(s-c)) ** 0.5 \n",
    " \n",
    "Function to take the length of the sides of triangle from user should be defined in the parent class and function to calculate the area should be defined in subclass."
   ]
  },
  {
   "cell_type": "code",
   "execution_count": 1,
   "metadata": {},
   "outputs": [
    {
     "name": "stdout",
     "output_type": "stream",
     "text": [
      "enter value of a 2\n",
      "enter value of b 3\n",
      "enter value of c 4\n",
      "Area of triangle: 2.9047375096555625\n"
     ]
    }
   ],
   "source": [
    "class Takesides:\n",
    "    def __init__(self,a1,b1,c1):\n",
    "        self.a=a1\n",
    "        self.b=b1\n",
    "        self.c=c1\n",
    "        self.s=(self.a+self.b+self.c)/2\n",
    "class Area(Takesides):\n",
    "    def calArea(self):\n",
    "        self.area=(self.s*(self.s-self.a)*(self.s-self.b)*(self.s-self.c)) ** 0.5\n",
    "        return (self.area)\n",
    "a1=float(input(\"enter value of a \"))\n",
    "b1=float(input(\"enter value of b \"))\n",
    "c1=float(input(\"enter value of c \"))\n",
    "obj=Area(a1,b1,c1)\n",
    "ar=obj.calArea()\n",
    "print(f\"Area of triangle: {ar}\")"
   ]
  },
  {
   "cell_type": "markdown",
   "metadata": {},
   "source": [
    "1.2 Write a function filter_long_words() that takes a list of words and an integer n and returns the list of words that are longer than n. "
   ]
  },
  {
   "cell_type": "code",
   "execution_count": 2,
   "metadata": {},
   "outputs": [
    {
     "name": "stdout",
     "output_type": "stream",
     "text": [
      "['harsh', 'gupta', 'engineer']\n"
     ]
    }
   ],
   "source": [
    "def filter_long_words(lst,n):\n",
    "    l=[]\n",
    "    for item in lst:\n",
    "        if(len(item)>n):\n",
    "            l.append(item)\n",
    "    return (l)\n",
    "lst=['harsh','gupta','i','am','engineer']\n",
    "print(filter_long_words(lst,4))"
   ]
  },
  {
   "cell_type": "markdown",
   "metadata": {},
   "source": [
    "2.1 Write a Python program using function concept that maps list of words into a list of integers representing the lengths of the corresponding words."
   ]
  },
  {
   "cell_type": "code",
   "execution_count": 3,
   "metadata": {},
   "outputs": [
    {
     "name": "stdout",
     "output_type": "stream",
     "text": [
      "[5, 5, 1, 2, 8]\n"
     ]
    }
   ],
   "source": [
    "def mapping(lst):\n",
    "    l=[]\n",
    "    for item in lst:\n",
    "            l.append(len(item))\n",
    "    return l    \n",
    "lst=['harsh','gupta','i','am','engineer']\n",
    "print(mapping(lst))"
   ]
  },
  {
   "cell_type": "markdown",
   "metadata": {},
   "source": [
    "2.2 Write a Python function which takes a character (i.e. a string of length 1) and returns True if it is a vowel, False otherwise."
   ]
  },
  {
   "cell_type": "code",
   "execution_count": 4,
   "metadata": {},
   "outputs": [
    {
     "name": "stdout",
     "output_type": "stream",
     "text": [
      "True\n",
      "False\n"
     ]
    }
   ],
   "source": [
    "def isVowel(c):\n",
    "    vowel='aeiou'\n",
    "    return c in vowel\n",
    "print(isVowel('a'))\n",
    "print(isVowel('d'))"
   ]
  },
  {
   "cell_type": "code",
   "execution_count": null,
   "metadata": {},
   "outputs": [],
   "source": []
  }
 ],
 "metadata": {
  "kernelspec": {
   "display_name": "Python 3",
   "language": "python",
   "name": "python3"
  },
  "language_info": {
   "codemirror_mode": {
    "name": "ipython",
    "version": 3
   },
   "file_extension": ".py",
   "mimetype": "text/x-python",
   "name": "python",
   "nbconvert_exporter": "python",
   "pygments_lexer": "ipython3",
   "version": "3.7.0"
  }
 },
 "nbformat": 4,
 "nbformat_minor": 2
}
